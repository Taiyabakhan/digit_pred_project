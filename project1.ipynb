{
 "cells": [
  {
   "cell_type": "code",
   "execution_count": 1,
   "id": "8974f750",
   "metadata": {},
   "outputs": [],
   "source": [
    "import pandas as pd\n",
    "import numpy as np\n",
    "import matplotlib.pyplot as plt"
   ]
  },
  {
   "cell_type": "code",
   "execution_count": 2,
   "id": "687cdd91",
   "metadata": {},
   "outputs": [],
   "source": [
    "from sklearn.datasets import load_digits\n"
   ]
  },
  {
   "cell_type": "code",
   "execution_count": 5,
   "id": "6ca95649",
   "metadata": {},
   "outputs": [
    {
     "data": {
      "image/png": "[encoded data removed]",
      "text/plain": [
       "<Figure size 1000x300 with 4 Axes>"
      ]
     },
     "metadata": {},
     "output_type": "display_data"
    }
   ],
   "source": [
    "df=load_digits()\n",
    "_, axes = plt.subplots(nrows=1,ncols=4,figsize=(10,3))\n",
    "for ax , image,label in zip(axes,df.images ,df.target):\n",
    "    ax.set_axis_off()\n",
    "    ax.imshow(image,cmap=plt.cm.gray_r,interpolation=\"nearest\")\n",
    "    ax.set_title(\"Training :%i\" %label)"
   ]
  },
  {
   "cell_type": "code",
   "execution_count": 6,
   "id": "dd2ba88f",
   "metadata": {},
   "outputs": [
    {
     "data": {
      "text/plain": [
       "(1797, 8, 8)"
      ]
     },
     "execution_count": 6,
     "metadata": {},
     "output_type": "execute_result"
    }
   ],
   "source": [
    "df.images.shape"
   ]
  },
  {
   "cell_type": "code",
   "execution_count": 7,
   "id": "89c2a5c8",
   "metadata": {},
   "outputs": [
    {
     "data": {
      "text/plain": [
       "array([[ 0.,  0.,  5., 13.,  9.,  1.,  0.,  0.],\n",
       "       [ 0.,  0., 13., 15., 10., 15.,  5.,  0.],\n",
       "       [ 0.,  3., 15.,  2.,  0., 11.,  8.,  0.],\n",
       "       [ 0.,  4., 12.,  0.,  0.,  8.,  8.,  0.],\n",
       "       [ 0.,  5.,  8.,  0.,  0.,  9.,  8.,  0.],\n",
       "       [ 0.,  4., 11.,  0.,  1., 12.,  7.,  0.],\n",
       "       [ 0.,  2., 14.,  5., 10., 12.,  0.,  0.],\n",
       "       [ 0.,  0.,  6., 13., 10.,  0.,  0.,  0.]])"
      ]
     },
     "execution_count": 7,
     "metadata": {},
     "output_type": "execute_result"
    }
   ],
   "source": [
    "df.images[0]"
   ]
  },
  {
   "cell_type": "code",
   "execution_count": 8,
   "id": "04627078",
   "metadata": {},
   "outputs": [
    {
     "data": {
      "text/plain": [
       "(8, 8)"
      ]
     },
     "execution_count": 8,
     "metadata": {},
     "output_type": "execute_result"
    }
   ],
   "source": [
    "df.images[0].shape"
   ]
  },
  {
   "cell_type": "code",
   "execution_count": 9,
   "id": "7f81e3b5",
   "metadata": {},
   "outputs": [
    {
     "data": {
      "text/plain": [
       "1797"
      ]
     },
     "execution_count": 9,
     "metadata": {},
     "output_type": "execute_result"
    }
   ],
   "source": [
    "len(df.images)"
   ]
  },
  {
   "cell_type": "code",
   "execution_count": 11,
   "id": "0fb09202",
   "metadata": {},
   "outputs": [],
   "source": [
    "n_samples=len(df.images)\n",
    "data=df.images.reshape((n_samples,-1))"
   ]
  },
  {
   "cell_type": "code",
   "execution_count": 12,
   "id": "b03c637d",
   "metadata": {},
   "outputs": [
    {
     "data": {
      "text/plain": [
       "array([ 0.,  0.,  5., 13.,  9.,  1.,  0.,  0.,  0.,  0., 13., 15., 10.,\n",
       "       15.,  5.,  0.,  0.,  3., 15.,  2.,  0., 11.,  8.,  0.,  0.,  4.,\n",
       "       12.,  0.,  0.,  8.,  8.,  0.,  0.,  5.,  8.,  0.,  0.,  9.,  8.,\n",
       "        0.,  0.,  4., 11.,  0.,  1., 12.,  7.,  0.,  0.,  2., 14.,  5.,\n",
       "       10., 12.,  0.,  0.,  0.,  0.,  6., 13., 10.,  0.,  0.,  0.])"
      ]
     },
     "execution_count": 12,
     "metadata": {},
     "output_type": "execute_result"
    }
   ],
   "source": [
    "data[0]"
   ]
  },
  {
   "cell_type": "code",
   "execution_count": 13,
   "id": "200a6043",
   "metadata": {},
   "outputs": [
    {
     "data": {
      "text/plain": [
       "(64,)"
      ]
     },
     "execution_count": 13,
     "metadata": {},
     "output_type": "execute_result"
    }
   ],
   "source": [
    "data[0].shape"
   ]
  },
  {
   "cell_type": "code",
   "execution_count": 14,
   "id": "5eb4180a",
   "metadata": {},
   "outputs": [
    {
     "data": {
      "text/plain": [
       "(1797, 64)"
      ]
     },
     "execution_count": 14,
     "metadata": {},
     "output_type": "execute_result"
    }
   ],
   "source": [
    "data.shape"
   ]
  },
  {
   "cell_type": "code",
   "execution_count": 15,
   "id": "5b5a585e",
   "metadata": {},
   "outputs": [
    {
     "data": {
      "text/plain": [
       "0.0"
      ]
     },
     "execution_count": 15,
     "metadata": {},
     "output_type": "execute_result"
    }
   ],
   "source": [
    "data.min()"
   ]
  },
  {
   "cell_type": "code",
   "execution_count": 16,
   "id": "e7bd9362",
   "metadata": {},
   "outputs": [
    {
     "data": {
      "text/plain": [
       "16.0"
      ]
     },
     "execution_count": 16,
     "metadata": {},
     "output_type": "execute_result"
    }
   ],
   "source": [
    "data.max()"
   ]
  },
  {
   "cell_type": "code",
   "execution_count": 17,
   "id": "fdda7bad",
   "metadata": {},
   "outputs": [],
   "source": [
    "data=data/16"
   ]
  },
  {
   "cell_type": "code",
   "execution_count": 18,
   "id": "ebab7fd8",
   "metadata": {},
   "outputs": [
    {
     "data": {
      "text/plain": [
       "0.0"
      ]
     },
     "execution_count": 18,
     "metadata": {},
     "output_type": "execute_result"
    }
   ],
   "source": [
    "data.min()"
   ]
  },
  {
   "cell_type": "code",
   "execution_count": 19,
   "id": "c5443a85",
   "metadata": {},
   "outputs": [
    {
     "data": {
      "text/plain": [
       "1.0"
      ]
     },
     "execution_count": 19,
     "metadata": {},
     "output_type": "execute_result"
    }
   ],
   "source": [
    "data.max()"
   ]
  },
  {
   "cell_type": "code",
   "execution_count": 20,
   "id": "e109d1f5",
   "metadata": {},
   "outputs": [
    {
     "data": {
      "text/plain": [
       "array([0.    , 0.    , 0.3125, 0.8125, 0.5625, 0.0625, 0.    , 0.    ,\n",
       "       0.    , 0.    , 0.8125, 0.9375, 0.625 , 0.9375, 0.3125, 0.    ,\n",
       "       0.    , 0.1875, 0.9375, 0.125 , 0.    , 0.6875, 0.5   , 0.    ,\n",
       "       0.    , 0.25  , 0.75  , 0.    , 0.    , 0.5   , 0.5   , 0.    ,\n",
       "       0.    , 0.3125, 0.5   , 0.    , 0.    , 0.5625, 0.5   , 0.    ,\n",
       "       0.    , 0.25  , 0.6875, 0.    , 0.0625, 0.75  , 0.4375, 0.    ,\n",
       "       0.    , 0.125 , 0.875 , 0.3125, 0.625 , 0.75  , 0.    , 0.    ,\n",
       "       0.    , 0.    , 0.375 , 0.8125, 0.625 , 0.    , 0.    , 0.    ])"
      ]
     },
     "execution_count": 20,
     "metadata": {},
     "output_type": "execute_result"
    }
   ],
   "source": [
    "data[0]"
   ]
  },
  {
   "cell_type": "code",
   "execution_count": 21,
   "id": "32b691e5",
   "metadata": {},
   "outputs": [
    {
     "data": {
      "text/plain": [
       "((1257, 64), (540, 64), (1257,), (540,))"
      ]
     },
     "execution_count": 21,
     "metadata": {},
     "output_type": "execute_result"
    }
   ],
   "source": [
    "from sklearn.model_selection import train_test_split\n",
    "X_train, X_test , y_train, y_test= train_test_split(data,df.target,test_size=0.3)\n",
    "X_train.shape, X_test.shape , y_train.shape, y_test.shape"
   ]
  },
  {
   "cell_type": "code",
   "execution_count": 22,
   "id": "1a79de5a",
   "metadata": {},
   "outputs": [
    {
     "data": {
      "text/plain": [
       "RandomForestClassifier()"
      ]
     },
     "execution_count": 22,
     "metadata": {},
     "output_type": "execute_result"
    }
   ],
   "source": [
    "from sklearn.ensemble import RandomForestClassifier\n",
    "rf=RandomForestClassifier()\n",
    "rf.fit(X_train,y_train)"
   ]
  },
  {
   "cell_type": "code",
   "execution_count": 23,
   "id": "b98e6218",
   "metadata": {},
   "outputs": [
    {
     "data": {
      "text/plain": [
       "array([8, 3, 3, 5, 0, 5, 0, 9, 0, 1, 9, 6, 5, 4, 1, 7, 1, 0, 1, 4, 1, 1,\n",
       "       3, 6, 2, 6, 5, 7, 3, 6, 4, 6, 0, 6, 8, 1, 9, 1, 3, 7, 3, 2, 5, 0,\n",
       "       9, 7, 4, 6, 8, 0, 8, 8, 7, 8, 5, 5, 8, 4, 1, 0, 8, 7, 8, 4, 1, 8,\n",
       "       5, 2, 8, 6, 1, 8, 8, 7, 0, 6, 7, 8, 2, 6, 4, 1, 1, 2, 8, 4, 4, 9,\n",
       "       6, 6, 7, 8, 7, 9, 0, 8, 1, 2, 3, 8, 7, 0, 6, 9, 8, 1, 9, 4, 1, 4,\n",
       "       1, 1, 5, 9, 8, 9, 1, 7, 8, 4, 7, 0, 7, 6, 8, 7, 3, 9, 8, 4, 6, 3,\n",
       "       8, 7, 0, 8, 2, 1, 0, 8, 8, 3, 0, 5, 2, 8, 6, 2, 8, 2, 9, 9, 2, 8,\n",
       "       0, 7, 6, 4, 9, 1, 8, 3, 1, 8, 6, 2, 2, 9, 4, 2, 5, 0, 1, 0, 8, 2,\n",
       "       2, 7, 1, 2, 2, 3, 4, 9, 9, 3, 0, 1, 9, 0, 3, 3, 7, 5, 7, 1, 2, 5,\n",
       "       6, 5, 2, 3, 2, 6, 7, 5, 8, 5, 5, 2, 2, 4, 5, 7, 7, 3, 2, 5, 6, 1,\n",
       "       6, 1, 8, 7, 3, 2, 3, 7, 0, 8, 2, 7, 9, 7, 8, 5, 0, 7, 4, 9, 8, 6,\n",
       "       2, 2, 5, 7, 9, 3, 7, 9, 7, 5, 4, 1, 8, 5, 1, 4, 0, 6, 2, 1, 5, 5,\n",
       "       2, 4, 8, 8, 6, 2, 0, 3, 5, 7, 4, 4, 6, 5, 8, 4, 4, 3, 2, 9, 7, 6,\n",
       "       4, 8, 9, 4, 9, 3, 8, 8, 8, 0, 9, 0, 3, 1, 3, 4, 8, 7, 7, 2, 0, 8,\n",
       "       9, 0, 4, 1, 1, 3, 3, 3, 0, 1, 4, 1, 8, 4, 0, 3, 9, 7, 7, 6, 9, 0,\n",
       "       5, 0, 6, 5, 8, 5, 2, 0, 3, 7, 2, 5, 5, 2, 9, 1, 8, 8, 7, 3, 7, 3,\n",
       "       7, 5, 5, 9, 4, 5, 5, 4, 7, 5, 4, 5, 7, 8, 9, 5, 5, 1, 9, 4, 1, 1,\n",
       "       6, 4, 7, 8, 1, 3, 3, 0, 7, 7, 9, 9, 3, 5, 9, 4, 1, 6, 7, 3, 5, 0,\n",
       "       8, 2, 9, 1, 5, 5, 4, 0, 6, 0, 6, 8, 4, 8, 1, 2, 4, 9, 9, 5, 4, 1,\n",
       "       4, 0, 0, 1, 0, 7, 5, 4, 7, 5, 5, 5, 3, 0, 7, 0, 7, 8, 6, 2, 0, 1,\n",
       "       3, 4, 1, 1, 6, 5, 1, 0, 6, 7, 6, 7, 2, 3, 6, 4, 3, 5, 0, 3, 4, 2,\n",
       "       9, 6, 2, 7, 8, 6, 3, 2, 1, 6, 3, 7, 0, 3, 3, 6, 4, 0, 7, 3, 2, 4,\n",
       "       2, 3, 5, 5, 0, 9, 8, 1, 6, 9, 0, 9, 5, 9, 1, 6, 2, 1, 4, 4, 9, 3,\n",
       "       3, 2, 0, 4, 0, 1, 2, 7, 5, 4, 1, 5, 0, 9, 6, 3, 5, 7, 8, 4, 5, 8,\n",
       "       1, 7, 5, 8, 2, 1, 0, 3, 1, 1, 9, 6])"
      ]
     },
     "execution_count": 23,
     "metadata": {},
     "output_type": "execute_result"
    }
   ],
   "source": [
    "y_pred=rf.predict(X_test)\n",
    "y_pred"
   ]
  },
  {
   "cell_type": "code",
   "execution_count": 25,
   "id": "52d0ef01",
   "metadata": {},
   "outputs": [
    {
     "data": {
      "text/plain": [
       "array([[53,  0,  0,  0,  0,  0,  0,  0,  0,  0],\n",
       "       [ 0, 58,  0,  0,  0,  0,  0,  0,  0,  0],\n",
       "       [ 0,  0, 48,  0,  0,  0,  0,  0,  0,  0],\n",
       "       [ 0,  0,  0, 49,  0,  1,  0,  0,  1,  0],\n",
       "       [ 0,  0,  0,  0, 53,  0,  0,  1,  0,  0],\n",
       "       [ 0,  0,  0,  0,  0, 56,  0,  0,  2,  1],\n",
       "       [ 0,  0,  0,  0,  0,  0, 46,  0,  0,  0],\n",
       "       [ 0,  0,  0,  0,  0,  0,  0, 55,  0,  0],\n",
       "       [ 0,  2,  1,  0,  0,  1,  0,  0, 60,  1],\n",
       "       [ 0,  0,  0,  2,  0,  1,  0,  3,  0, 45]], dtype=int64)"
      ]
     },
     "execution_count": 25,
     "metadata": {},
     "output_type": "execute_result"
    }
   ],
   "source": [
    "from sklearn.metrics import confusion_matrix,classification_report\n",
    "confusion_matrix(y_test,y_pred)"
   ]
  },
  {
   "cell_type": "code",
   "execution_count": 26,
   "id": "813c2259",
   "metadata": {},
   "outputs": [
    {
     "name": "stdout",
     "output_type": "stream",
     "text": [
      "              precision    recall  f1-score   support\n",
      "\n",
      "           0       1.00      1.00      1.00        53\n",
      "           1       0.97      1.00      0.98        58\n",
      "           2       0.98      1.00      0.99        48\n",
      "           3       0.96      0.96      0.96        51\n",
      "           4       1.00      0.98      0.99        54\n",
      "           5       0.95      0.95      0.95        59\n",
      "           6       1.00      1.00      1.00        46\n",
      "           7       0.93      1.00      0.96        55\n",
      "           8       0.95      0.92      0.94        65\n",
      "           9       0.96      0.88      0.92        51\n",
      "\n",
      "    accuracy                           0.97       540\n",
      "   macro avg       0.97      0.97      0.97       540\n",
      "weighted avg       0.97      0.97      0.97       540\n",
      "\n"
     ]
    }
   ],
   "source": [
    "print(classification_report(y_test,y_pred))"
   ]
  },
  {
   "cell_type": "code",
   "execution_count": null,
   "id": "52cc9ec7",
   "metadata": {},
   "outputs": [],
   "source": []
  }
 ],
 "metadata": {
  "kernelspec": {
   "display_name": "Python 3 (ipykernel)",
   "language": "python",
   "name": "python3"
  },
  "language_info": {
   "codemirror_mode": {
    "name": "ipython",
    "version": 3
   },
   "file_extension": ".py",
   "mimetype": "text/x-python",
   "name": "python",
   "nbconvert_exporter": "python",
   "pygments_lexer": "ipython3",
   "version": "3.9.13"
  }
 },
 "nbformat": 4,
 "nbformat_minor": 5
}
